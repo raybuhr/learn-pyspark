{
 "cells": [
  {
   "cell_type": "code",
   "execution_count": 1,
   "metadata": {},
   "outputs": [],
   "source": [
    "import pyspark\n",
    "from pyspark.sql import SparkSession\n",
    "sc = pyspark.SparkContext('local[*]')"
   ]
  },
  {
   "cell_type": "code",
   "execution_count": 2,
   "metadata": {},
   "outputs": [
    {
     "data": {
      "text/plain": [
       "'2.4.0'"
      ]
     },
     "execution_count": 2,
     "metadata": {},
     "output_type": "execute_result"
    }
   ],
   "source": [
    "sc.version"
   ]
  },
  {
   "cell_type": "code",
   "execution_count": 3,
   "metadata": {},
   "outputs": [],
   "source": [
    "spark = SparkSession.builder.getOrCreate()"
   ]
  },
  {
   "cell_type": "code",
   "execution_count": 7,
   "metadata": {},
   "outputs": [],
   "source": [
    "df = (\n",
    "    spark.read.format(\"csv\")\n",
    "    .option(\"header\", \"true\")\n",
    "    .option(\"delimiter\", \"\\t\")\n",
    "    .load(\"EMG_data_for_gestures-master/*/*.txt\")\n",
    ")"
   ]
  },
  {
   "cell_type": "code",
   "execution_count": 8,
   "metadata": {},
   "outputs": [
    {
     "data": {
      "text/plain": [
       "4237908"
      ]
     },
     "execution_count": 8,
     "metadata": {},
     "output_type": "execute_result"
    }
   ],
   "source": [
    "df.count()"
   ]
  },
  {
   "cell_type": "code",
   "execution_count": 9,
   "metadata": {},
   "outputs": [
    {
     "name": "stdout",
     "output_type": "stream",
     "text": [
      "+----+--------+--------+--------+--------+--------+--------+--------+--------+-----+\n",
      "|time|channel1|channel2|channel3|channel4|channel5|channel6|channel7|channel8|class|\n",
      "+----+--------+--------+--------+--------+--------+--------+--------+--------+-----+\n",
      "|   0|  -1e-05|  -2e-05|  -1e-05|  -5e-05|  -6e-05|  -4e-05|  -1e-05|  -2e-05|    0|\n",
      "|   3|  -2e-05|       0| 0.00011|   6e-05|-0.00013|  -4e-05|       0|   1e-05|    0|\n",
      "|   4|  -2e-05|       0| 0.00011|   6e-05|-0.00013|  -4e-05|       0|   1e-05|    0|\n",
      "|   5|  -2e-05|       0| 0.00011|   6e-05|-0.00013|  -4e-05|       0|   1e-05|    0|\n",
      "|   6|  -2e-05|       0| 0.00011|   6e-05|-0.00013|  -4e-05|       0|   1e-05|    0|\n",
      "+----+--------+--------+--------+--------+--------+--------+--------+--------+-----+\n",
      "only showing top 5 rows\n",
      "\n"
     ]
    }
   ],
   "source": [
    "df.show(5)"
   ]
  },
  {
   "cell_type": "code",
   "execution_count": 20,
   "metadata": {},
   "outputs": [],
   "source": [
    "from pyspark.sql import functions as F\n",
    "from pyspark.sql import types"
   ]
  },
  {
   "cell_type": "code",
   "execution_count": 19,
   "metadata": {},
   "outputs": [
    {
     "data": {
      "text/plain": [
       "[('time', 'string'),\n",
       " ('channel1', 'string'),\n",
       " ('channel2', 'string'),\n",
       " ('channel3', 'string'),\n",
       " ('channel4', 'string'),\n",
       " ('channel5', 'string'),\n",
       " ('channel6', 'string'),\n",
       " ('channel7', 'string'),\n",
       " ('channel8', 'string'),\n",
       " ('class', 'string')]"
      ]
     },
     "execution_count": 19,
     "metadata": {},
     "output_type": "execute_result"
    }
   ],
   "source": [
    "df.dtypes"
   ]
  },
  {
   "cell_type": "code",
   "execution_count": 32,
   "metadata": {},
   "outputs": [],
   "source": [
    "df = df.withColumn(\"time\", df[\"time\"].cast(types.IntegerType()))"
   ]
  },
  {
   "cell_type": "code",
   "execution_count": 24,
   "metadata": {},
   "outputs": [],
   "source": [
    "for i in range(1, 9):\n",
    "    ch = \"channel\"+str(i)\n",
    "    df = df.withColumn(ch, df[ch].cast(types.FloatType()))"
   ]
  },
  {
   "cell_type": "code",
   "execution_count": 33,
   "metadata": {},
   "outputs": [
    {
     "data": {
      "text/plain": [
       "[('time', 'int'),\n",
       " ('channel1', 'float'),\n",
       " ('channel2', 'float'),\n",
       " ('channel3', 'float'),\n",
       " ('channel4', 'float'),\n",
       " ('channel5', 'float'),\n",
       " ('channel6', 'float'),\n",
       " ('channel7', 'float'),\n",
       " ('channel8', 'float'),\n",
       " ('class', 'string')]"
      ]
     },
     "execution_count": 33,
     "metadata": {},
     "output_type": "execute_result"
    }
   ],
   "source": [
    "df.dtypes"
   ]
  },
  {
   "cell_type": "code",
   "execution_count": 30,
   "metadata": {},
   "outputs": [
    {
     "data": {
      "text/plain": [
       "[Row(class='7', count(time)=13696, avg(time)=54512.66800525701, max(time)='78181', max(channel1)=0.0012700000079348683),\n",
       " Row(class='3', count(time)=249494, avg(time)=27437.843715680538, max(time)='9999', max(channel1)=0.0012700000079348683),\n",
       " Row(class='0', count(time)=2725157, avg(time)=31530.017472020878, max(time)='9999', max(channel1)=0.0012700000079348683),\n",
       " Row(class=None, count(time)=1, avg(time)=97144.0, max(time)='97144', max(channel1)=-1.9999999494757503e-05),\n",
       " Row(class='5', count(time)=251733, avg(time)=37979.939125978715, max(time)='69419', max(channel1)=0.0012700000079348683),\n",
       " Row(class='6', count(time)=253009, avg(time)=43169.45518538866, max(time)='76979', max(channel1)=0.0012700000079348683),\n",
       " Row(class='1', count(time)=250055, avg(time)=17544.549507108437, max(time)='999', max(channel1)=0.00015999999595806003),\n",
       " Row(class='4', count(time)=251570, avg(time)=32673.696760345032, max(time)='62163', max(channel1)=0.0007399999885819852),\n",
       " Row(class='2', count(time)=243193, avg(time)=21994.322373588057, max(time)='9318', max(channel1)=0.0012700000079348683)]"
      ]
     },
     "execution_count": 30,
     "metadata": {},
     "output_type": "execute_result"
    }
   ],
   "source": [
    "df.groupBy(\"class\").agg(\n",
    "    F.count(\"time\"),\n",
    "    F.mean(\"time\"),\n",
    "    F.max(\"time\"),\n",
    "    F.max(\"channel1\"),\n",
    ").collect()"
   ]
  },
  {
   "cell_type": "code",
   "execution_count": 38,
   "metadata": {},
   "outputs": [
    {
     "data": {
      "text/plain": [
       "[Row(min(time)=0)]"
      ]
     },
     "execution_count": 38,
     "metadata": {},
     "output_type": "execute_result"
    }
   ],
   "source": [
    "df.agg(F.min(\"time\")).collect()"
   ]
  },
  {
   "cell_type": "code",
   "execution_count": 39,
   "metadata": {},
   "outputs": [
    {
     "data": {
      "text/plain": [
       "[Row(summary='count', time='4237908', channel1='4237908', channel2='4237908', channel3='4237908', channel4='4237908', channel5='4237908', channel6='4237908', channel7='4237908', channel8='4237908', class='4237907'),\n",
       " Row(summary='mean', time='31136.89160170537', channel1='-7.911481221985641E-6', channel2='-9.416077347189007E-6', channel3='-9.548734826094754E-6', channel4='-9.637837728907124E-6', channel5='-1.5997241933525083E-5', channel6='-1.0855280385357427E-5', channel7='-9.364636874988767E-6', channel8='-9.696859735991815E-6', class='1.2656705302877105'),\n",
       " Row(summary='stddev', time='18680.79174887248', channel1='1.6311104693823503E-4', channel2='1.1922284688637004E-4', channel3='1.2418463026896086E-4', channel4='2.2577281974945991E-4', channel5='2.7241880261724184E-4', channel6='2.1514050941003502E-4', channel7='1.527310818136283E-4', channel8='1.720933468211266E-4', class='1.9896927735728438'),\n",
       " Row(summary='min', time='0', channel1='-0.00128', channel2='-0.00128', channel3='-0.00128', channel4='-0.00128', channel5='-0.00128', channel6='-0.00128', channel7='-0.00128', channel8='-0.00128', class='0'),\n",
       " Row(summary='25%', time='15292', channel1='-3.0E-5', channel2='-4.0E-5', channel3='-4.0E-5', channel4='-6.0E-5', channel5='-8.0E-5', channel6='-6.0E-5', channel7='-4.0E-5', channel8='-3.0E-5', class='0.0'),\n",
       " Row(summary='50%', time='30546', channel1='-1.0E-5', channel2='-1.0E-5', channel3='-1.0E-5', channel4='-1.0E-5', channel5='-1.0E-5', channel6='-1.0E-5', channel7='-1.0E-5', channel8='-1.0E-5', class='0.0'),\n",
       " Row(summary='75%', time='45806', channel1='2.0E-5', channel2='2.0E-5', channel3='3.0E-5', channel4='4.0E-5', channel5='5.0E-5', channel6='3.0E-5', channel7='2.0E-5', channel8='1.0E-5', class='2.0'),\n",
       " Row(summary='max', time='97144', channel1='0.00127', channel2='0.00127', channel3='0.00127', channel4='0.00127', channel5='0.00127', channel6='0.00127', channel7='0.00127', channel8='0.00127', class='7')]"
      ]
     },
     "execution_count": 39,
     "metadata": {},
     "output_type": "execute_result"
    }
   ],
   "source": [
    "df.summary().collect()"
   ]
  },
  {
   "cell_type": "code",
   "execution_count": 40,
   "metadata": {},
   "outputs": [],
   "source": [
    "(\n",
    "    df.write.format('parquet')\n",
    "    .bucketBy(100, 'class')\n",
    "    .sortBy('time')\n",
    "    .mode(\"overwrite\")\n",
    "    .saveAsTable('emg_data')\n",
    ")"
   ]
  },
  {
   "cell_type": "code",
   "execution_count": null,
   "metadata": {},
   "outputs": [],
   "source": []
  }
 ],
 "metadata": {
  "kernelspec": {
   "display_name": "Python 3",
   "language": "python",
   "name": "python3"
  },
  "language_info": {
   "codemirror_mode": {
    "name": "ipython",
    "version": 3
   },
   "file_extension": ".py",
   "mimetype": "text/x-python",
   "name": "python",
   "nbconvert_exporter": "python",
   "pygments_lexer": "ipython3",
   "version": "3.7.1"
  }
 },
 "nbformat": 4,
 "nbformat_minor": 2
}
