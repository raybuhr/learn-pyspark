{
 "cells": [
  {
   "cell_type": "markdown",
   "metadata": {},
   "source": [
    "EMG Data for Gestures from UCI ML archive\n",
    "[https://archive.ics.uci.edu/ml/datasets/EMG+data+for+gestures](https://archive.ics.uci.edu/ml/datasets/EMG+data+for+gestures)"
   ]
  },
  {
   "cell_type": "code",
   "execution_count": 2,
   "metadata": {},
   "outputs": [
    {
     "name": "stdout",
     "output_type": "stream",
     "text": [
      "--2019-04-10 01:02:31--  https://archive.ics.uci.edu/ml/machine-learning-databases/00481/EMG_data_for_gestures-master.zip\n",
      "Resolving archive.ics.uci.edu (archive.ics.uci.edu)... 128.195.10.252\n",
      "Connecting to archive.ics.uci.edu (archive.ics.uci.edu)|128.195.10.252|:443... connected.\n",
      "HTTP request sent, awaiting response... 200 OK\n",
      "Length: 17699840 (17M) [application/x-httpd-php]\n",
      "Saving to: ‘EMG_data_for_gestures-master.zip.1’\n",
      "\n",
      "EMG_data_for_gestur 100%[===================>]  16.88M  3.67MB/s    in 5.5s    \n",
      "\n",
      "2019-04-10 01:02:37 (3.06 MB/s) - ‘EMG_data_for_gestures-master.zip.1’ saved [17699840/17699840]\n",
      "\n"
     ]
    }
   ],
   "source": [
    "!wget https://archive.ics.uci.edu/ml/machine-learning-databases/00481/EMG_data_for_gestures-master.zip"
   ]
  },
  {
   "cell_type": "code",
   "execution_count": 3,
   "metadata": {},
   "outputs": [
    {
     "name": "stdout",
     "output_type": "stream",
     "text": [
      "Archive:  EMG_data_for_gestures-master.zip\n",
      "43e8a69d7465e9bd4d22a71ed9cf621cf8d1d7b2\n",
      "   creating: EMG_data_for_gestures-master/\n",
      "   creating: EMG_data_for_gestures-master/01/\n",
      "  inflating: EMG_data_for_gestures-master/01/1_raw_data_13-12_22.03.16.txt  \n",
      "  inflating: EMG_data_for_gestures-master/01/2_raw_data_13-13_22.03.16.txt  \n",
      "   creating: EMG_data_for_gestures-master/02/\n",
      "  inflating: EMG_data_for_gestures-master/02/1_raw_data_14-19_22.03.16.txt  \n",
      "  inflating: EMG_data_for_gestures-master/02/2_raw_data_14-21_22.03.16.txt  \n",
      "   creating: EMG_data_for_gestures-master/03/\n",
      "  inflating: EMG_data_for_gestures-master/03/1_raw_data_09-32_11.04.16.txt  \n",
      "  inflating: EMG_data_for_gestures-master/03/2_raw_data_09-34_11.04.16.txt  \n",
      "   creating: EMG_data_for_gestures-master/04/\n",
      "  inflating: EMG_data_for_gestures-master/04/1_raw_data_18-02_24.04.16.txt  \n",
      "  inflating: EMG_data_for_gestures-master/04/2_raw_data_18-03_24.04.16.txt  \n",
      "   creating: EMG_data_for_gestures-master/05/\n",
      "  inflating: EMG_data_for_gestures-master/05/1_raw_data_10-28_30.03.16.txt  \n",
      "  inflating: EMG_data_for_gestures-master/05/2_raw_data_10-29_30.03.16.txt  \n",
      "   creating: EMG_data_for_gestures-master/06/\n",
      "  inflating: EMG_data_for_gestures-master/06/1_raw_data_10-38_11.04.16.txt  \n",
      "  inflating: EMG_data_for_gestures-master/06/2_raw_data_10-40_11.04.16.txt  \n",
      "   creating: EMG_data_for_gestures-master/07/\n",
      "  inflating: EMG_data_for_gestures-master/07/1_raw_data_18-48_22.03.16.txt  \n",
      "  inflating: EMG_data_for_gestures-master/07/2_raw_data_18-50_22.03.16.txt  \n",
      "   creating: EMG_data_for_gestures-master/08/\n",
      "  inflating: EMG_data_for_gestures-master/08/1_raw_data_12-14_23.03.16.txt  \n",
      "  inflating: EMG_data_for_gestures-master/08/2_raw_data_12-16_23.03.16.txt  \n",
      "   creating: EMG_data_for_gestures-master/09/\n",
      "  inflating: EMG_data_for_gestures-master/09/1_raw_data_12-41_23.03.16.txt  \n",
      "  inflating: EMG_data_for_gestures-master/09/2_raw_data_12-43_23.03.16.txt  \n",
      "   creating: EMG_data_for_gestures-master/10/\n",
      "  inflating: EMG_data_for_gestures-master/10/1_raw_data_11-08_21.03.16.txt  \n",
      "  inflating: EMG_data_for_gestures-master/10/2_raw_data_11-10_21.03.16.txt  \n",
      "   creating: EMG_data_for_gestures-master/11/\n",
      "  inflating: EMG_data_for_gestures-master/11/1_raw_data_13-11_18.03.16.txt  \n",
      "  inflating: EMG_data_for_gestures-master/11/2_raw_data_13-13_18.03.16.txt  \n",
      "   creating: EMG_data_for_gestures-master/12/\n",
      "  inflating: EMG_data_for_gestures-master/12/1_raw_data_11-35_28.03.16.txt  \n",
      "  inflating: EMG_data_for_gestures-master/12/2_raw_data_11-36_28.03.16.txt  \n",
      "   creating: EMG_data_for_gestures-master/13/\n",
      "  inflating: EMG_data_for_gestures-master/13/1_raw_data_13-26_21.03.16.txt  \n",
      "  inflating: EMG_data_for_gestures-master/13/2_raw_data_13-29_21.03.16.txt  \n",
      "   creating: EMG_data_for_gestures-master/14/\n",
      "  inflating: EMG_data_for_gestures-master/14/1_raw_data_09-50_15.04.16.txt  \n",
      "  inflating: EMG_data_for_gestures-master/14/2_raw_data_09-51_15.04.16.txt  \n",
      "   creating: EMG_data_for_gestures-master/15/\n",
      "  inflating: EMG_data_for_gestures-master/15/1_raw_data_08-49_13.04.16.txt  \n",
      "  inflating: EMG_data_for_gestures-master/15/2_raw_data_08-51_13.04.16.txt  \n",
      "   creating: EMG_data_for_gestures-master/16/\n",
      "  inflating: EMG_data_for_gestures-master/16/1_raw_data_12-12_25.04.16.txt  \n",
      "  inflating: EMG_data_for_gestures-master/16/2_raw_data_12-14_25.04.16.txt  \n",
      "   creating: EMG_data_for_gestures-master/17/\n",
      "  inflating: EMG_data_for_gestures-master/17/1_raw_data_11-19_23.03.16.txt  \n",
      "  inflating: EMG_data_for_gestures-master/17/2_raw_data_11-20_23.03.16.txt  \n",
      "   creating: EMG_data_for_gestures-master/18/\n",
      "  inflating: EMG_data_for_gestures-master/18/1_raw_data_12-35_21.03.16.txt  \n",
      "  inflating: EMG_data_for_gestures-master/18/2_raw_data_12-37_21.03.16.txt  \n",
      "   creating: EMG_data_for_gestures-master/19/\n",
      "  inflating: EMG_data_for_gestures-master/19/1_raw_data_12-10_26.04.16.txt  \n",
      "  inflating: EMG_data_for_gestures-master/19/2_raw_data_12-11_26.04.16.txt  \n",
      "   creating: EMG_data_for_gestures-master/20/\n",
      "  inflating: EMG_data_for_gestures-master/20/1_raw_data_11-41_22.03.16.txt  \n",
      "  inflating: EMG_data_for_gestures-master/20/2_raw_data_11-43_22.03.16.txt  \n",
      "   creating: EMG_data_for_gestures-master/21/\n",
      "  inflating: EMG_data_for_gestures-master/21/1_raw_data_20-28_24.04.16.txt  \n",
      "  inflating: EMG_data_for_gestures-master/21/2_raw_data_20-30_24.04.16.txt  \n",
      "   creating: EMG_data_for_gestures-master/22/\n",
      "  inflating: EMG_data_for_gestures-master/22/1_raw_data_12-37_28.03.16.txt  \n",
      "  inflating: EMG_data_for_gestures-master/22/2_raw_data_12-39_28.03.16.txt  \n",
      "   creating: EMG_data_for_gestures-master/23/\n",
      "  inflating: EMG_data_for_gestures-master/23/1_raw_data_13-18_05.04.16.txt  \n",
      "  inflating: EMG_data_for_gestures-master/23/2_raw_data_13-19_05.04.16.txt  \n",
      "   creating: EMG_data_for_gestures-master/24/\n",
      "  inflating: EMG_data_for_gestures-master/24/1_raw_data_10-16_12.04.16.txt  \n",
      "  inflating: EMG_data_for_gestures-master/24/2_raw_data_10-17_12.04.16.txt  \n",
      "   creating: EMG_data_for_gestures-master/25/\n",
      "  inflating: EMG_data_for_gestures-master/25/1_raw_data_14-51_24.04.16.txt  \n",
      "  inflating: EMG_data_for_gestures-master/25/2_raw_data_14-53_24.04.16.txt  \n",
      "   creating: EMG_data_for_gestures-master/26/\n",
      "  inflating: EMG_data_for_gestures-master/26/1_raw_data_10-22_29.03.16.txt  \n",
      "  inflating: EMG_data_for_gestures-master/26/2_raw_data_10-23_29.03.16.txt  \n",
      "   creating: EMG_data_for_gestures-master/27/\n",
      "  inflating: EMG_data_for_gestures-master/27/1_raw_data_12-19_06.04.16.txt  \n",
      "  inflating: EMG_data_for_gestures-master/27/2_raw_data_12-20_06.04.16.txt  \n",
      "   creating: EMG_data_for_gestures-master/28/\n",
      "  inflating: EMG_data_for_gestures-master/28/1_raw_data_12-10_15.04.16.txt  \n",
      "  inflating: EMG_data_for_gestures-master/28/2_raw_data_12-11_15.04.16.txt  \n",
      "   creating: EMG_data_for_gestures-master/29/\n",
      "  inflating: EMG_data_for_gestures-master/29/1_raw_data_10-17_15.04.16.txt  \n",
      "  inflating: EMG_data_for_gestures-master/29/2_raw_data_10-18_15.04.16.txt  \n",
      "   creating: EMG_data_for_gestures-master/30/\n",
      "  inflating: EMG_data_for_gestures-master/30/1_raw_data_09-49_21.03.16.txt  \n",
      "  inflating: EMG_data_for_gestures-master/30/2_raw_data_09-50_21.03.16.txt  \n",
      "   creating: EMG_data_for_gestures-master/31/\n",
      "  inflating: EMG_data_for_gestures-master/31/1_raw_data_11-15_11.04.16.txt  \n",
      "  inflating: EMG_data_for_gestures-master/31/2_raw_data_11-16_11.04.16.txt  \n",
      "   creating: EMG_data_for_gestures-master/32/\n",
      "  inflating: EMG_data_for_gestures-master/32/1_raw_data_12-04_27.04.16.txt  \n",
      "  inflating: EMG_data_for_gestures-master/32/2_raw_data_12-06_27.04.16.txt  \n",
      "   creating: EMG_data_for_gestures-master/33/\n",
      "  inflating: EMG_data_for_gestures-master/33/1_raw_data_09-49_12.04.16.txt  \n",
      "  inflating: EMG_data_for_gestures-master/33/2_raw_data_09-50_12.04.16.txt  \n",
      "   creating: EMG_data_for_gestures-master/34/\n",
      "  inflating: EMG_data_for_gestures-master/34/1_raw_data_10-51_07.04.16.txt  \n",
      "  inflating: EMG_data_for_gestures-master/34/2_raw_data_10-53_07.04.16.txt  \n",
      "   creating: EMG_data_for_gestures-master/35/\n",
      "  inflating: EMG_data_for_gestures-master/35/1_raw_data_10-03_13.04.16.txt  \n",
      "  inflating: EMG_data_for_gestures-master/35/2_raw_data_10-05_13.04.16.txt  \n",
      "   creating: EMG_data_for_gestures-master/36/\n",
      "  inflating: EMG_data_for_gestures-master/36/1_raw_data_13-03_15.04.16.txt  \n",
      "  inflating: EMG_data_for_gestures-master/36/2_raw_data_13-04_15.04.16.txt  \n",
      "  inflating: EMG_data_for_gestures-master/README.txt  \n"
     ]
    }
   ],
   "source": [
    "!unzip EMG_data_for_gestures-master.zip"
   ]
  },
  {
   "cell_type": "markdown",
   "metadata": {},
   "source": [
    "Description of raw_data _*** file\n",
    "Each file consist of 10 columns:\n",
    "\n",
    "1) Time - time in ms;\n",
    "\n",
    "2-9) Channel - eightEMG channels of MYO Thalmic bracelet;\n",
    "\n",
    "10) Class label of gestures:\n",
    "\n",
    "0 - unmarked data,\n",
    "1 - hand at rest,\n",
    "2 - hand clenched in a fist,\n",
    "3 - wrist flexion,\n",
    "4 â€“ wrist extension,\n",
    "5 â€“ radial deviations,\n",
    "6 - ulnar deviations,\n",
    "7 - extended palm (the gesture was not performed by all subjects)."
   ]
  },
  {
   "cell_type": "code",
   "execution_count": null,
   "metadata": {},
   "outputs": [],
   "source": []
  }
 ],
 "metadata": {
  "kernelspec": {
   "display_name": "Python 3",
   "language": "python",
   "name": "python3"
  },
  "language_info": {
   "codemirror_mode": {
    "name": "ipython",
    "version": 3
   },
   "file_extension": ".py",
   "mimetype": "text/x-python",
   "name": "python",
   "nbconvert_exporter": "python",
   "pygments_lexer": "ipython3",
   "version": "3.7.1"
  }
 },
 "nbformat": 4,
 "nbformat_minor": 2
}
